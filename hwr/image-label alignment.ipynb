{
 "cells": [
  {
   "cell_type": "markdown",
   "metadata": {},
   "source": [
    "# Image-label alignment process\n",
    "This notebook is about to produce a file aligning the images and labels of IAM text lines dataset."
   ]
  },
  {
   "cell_type": "code",
   "execution_count": 1,
   "metadata": {
    "collapsed": true
   },
   "outputs": [],
   "source": [
    "# some constant\n",
    "LABEL_DIR = \"../data/labels/\"\n",
    "IMAGE_DIR = \"../data/images/\""
   ]
  },
  {
   "cell_type": "code",
   "execution_count": 2,
   "metadata": {
    "collapsed": true
   },
   "outputs": [],
   "source": [
    "# import\n",
    "import os\n",
    "import re"
   ]
  },
  {
   "cell_type": "code",
   "execution_count": 3,
   "metadata": {
    "collapsed": false
   },
   "outputs": [],
   "source": [
    "# count examples\n",
    "num_examples = sum([len(files) for r, d, files in os.walk(IMAGE_DIR)])\n",
    "assert(num_examples == 13353)"
   ]
  },
  {
   "cell_type": "code",
   "execution_count": 4,
   "metadata": {
    "collapsed": false
   },
   "outputs": [],
   "source": [
    "# parse the xml file\n",
    "images = []\n",
    "labels = []\n",
    "pattern = re.compile(r'.*<line.*id=\"(\\w+-\\w+-\\w+)\".*text=\"(.*?)\".*')\n",
    "for filename in os.listdir(LABEL_DIR):\n",
    "    with open(os.path.join(LABEL_DIR, filename), 'r') as f:\n",
    "        for line in f.readlines():\n",
    "            m = pattern.match(line)\n",
    "            if m:\n",
    "                fs = m.group(1).split('-')\n",
    "                images.append(\"{}/{}/{}.png\".format(fs[0], '-'.join([fs[0],fs[1]]), m.group(1)))\n",
    "                labels.append(m.group(2))\n",
    "assert(len(images) == len(labels) == num_examples)"
   ]
  },
  {
   "cell_type": "code",
   "execution_count": 5,
   "metadata": {
    "collapsed": false
   },
   "outputs": [],
   "source": [
    "# clean the labels\n",
    "#     &apos; -> '\n",
    "#     &quot; -> \"\n",
    "#     &amp;quot; -> \"\n",
    "#     &amp;amp; -> &\n",
    "#     &amp; -> &\n",
    "for i in range(len(labels)):\n",
    "    labels[i] = labels[i].replace(\"&apos;\", \"'\")\n",
    "    labels[i] = labels[i].replace(\"&quot;\", '\"')\n",
    "    labels[i] = labels[i].replace(\"&amp;quot;\",'\"')\n",
    "    labels[i] = labels[i].replace(\"&amp;amp;\",'&')\n",
    "    labels[i] = labels[i].replace(\"&amp;\",'&')"
   ]
  },
  {
   "cell_type": "code",
   "execution_count": 6,
   "metadata": {
    "collapsed": false
   },
   "outputs": [],
   "source": [
    "# write the alignmnet file\n",
    "with open(\"alignment.txt\", 'w') as f:\n",
    "    for line in zip(images, labels):\n",
    "        f.write('||'.join(line) + '\\n')"
   ]
  },
  {
   "cell_type": "code",
   "execution_count": 15,
   "metadata": {
    "collapsed": true
   },
   "outputs": [],
   "source": [
    "# build the dictionary of labels\n",
    "label_count = {}\n",
    "label_dict = {}\n",
    "for label in labels:\n",
    "    for c in label:\n",
    "        if c not in label_count:\n",
    "            label_count[c] = 1\n",
    "        else:\n",
    "            label_count[c] += 1\n",
    "index = 0\n",
    "for label in sorted(label_count):\n",
    "    label_dict[label] = index\n",
    "    index += 1"
   ]
  },
  {
   "cell_type": "code",
   "execution_count": 16,
   "metadata": {
    "collapsed": false
   },
   "outputs": [
    {
     "data": {
      "text/plain": [
       "{' ': 87288,\n",
       " '!': 226,\n",
       " '\"': 1629,\n",
       " '#': 79,\n",
       " '&': 55,\n",
       " \"'\": 1987,\n",
       " '(': 203,\n",
       " ')': 200,\n",
       " '*': 14,\n",
       " '+': 9,\n",
       " ',': 5629,\n",
       " '-': 1545,\n",
       " '.': 6224,\n",
       " '/': 16,\n",
       " '0': 431,\n",
       " '1': 494,\n",
       " '2': 209,\n",
       " '3': 174,\n",
       " '4': 118,\n",
       " '5': 157,\n",
       " '6': 121,\n",
       " '7': 64,\n",
       " '8': 118,\n",
       " '9': 179,\n",
       " ':': 165,\n",
       " ';': 204,\n",
       " '?': 259,\n",
       " 'A': 1257,\n",
       " 'B': 854,\n",
       " 'C': 750,\n",
       " 'D': 569,\n",
       " 'E': 675,\n",
       " 'F': 489,\n",
       " 'G': 661,\n",
       " 'H': 988,\n",
       " 'I': 1600,\n",
       " 'J': 181,\n",
       " 'K': 163,\n",
       " 'L': 638,\n",
       " 'M': 1144,\n",
       " 'N': 711,\n",
       " 'O': 469,\n",
       " 'P': 722,\n",
       " 'Q': 16,\n",
       " 'R': 606,\n",
       " 'S': 1064,\n",
       " 'T': 1652,\n",
       " 'U': 189,\n",
       " 'V': 171,\n",
       " 'W': 728,\n",
       " 'X': 8,\n",
       " 'Y': 227,\n",
       " 'Z': 10,\n",
       " 'a': 35849,\n",
       " 'b': 6803,\n",
       " 'c': 11823,\n",
       " 'd': 17952,\n",
       " 'e': 56911,\n",
       " 'f': 10006,\n",
       " 'g': 8653,\n",
       " 'h': 25244,\n",
       " 'i': 30300,\n",
       " 'j': 423,\n",
       " 'k': 2819,\n",
       " 'l': 18036,\n",
       " 'm': 10642,\n",
       " 'n': 31027,\n",
       " 'o': 33343,\n",
       " 'p': 8253,\n",
       " 'q': 370,\n",
       " 'r': 27516,\n",
       " 's': 27867,\n",
       " 't': 39972,\n",
       " 'u': 12203,\n",
       " 'v': 4528,\n",
       " 'w': 8808,\n",
       " 'x': 785,\n",
       " 'y': 8264,\n",
       " 'z': 205}"
      ]
     },
     "execution_count": 16,
     "metadata": {},
     "output_type": "execute_result"
    }
   ],
   "source": [
    "label_count"
   ]
  },
  {
   "cell_type": "code",
   "execution_count": 17,
   "metadata": {
    "collapsed": false
   },
   "outputs": [
    {
     "data": {
      "text/plain": [
       "{' ': 0,\n",
       " '!': 1,\n",
       " '\"': 2,\n",
       " '#': 3,\n",
       " '&': 4,\n",
       " \"'\": 5,\n",
       " '(': 6,\n",
       " ')': 7,\n",
       " '*': 8,\n",
       " '+': 9,\n",
       " ',': 10,\n",
       " '-': 11,\n",
       " '.': 12,\n",
       " '/': 13,\n",
       " '0': 14,\n",
       " '1': 15,\n",
       " '2': 16,\n",
       " '3': 17,\n",
       " '4': 18,\n",
       " '5': 19,\n",
       " '6': 20,\n",
       " '7': 21,\n",
       " '8': 22,\n",
       " '9': 23,\n",
       " ':': 24,\n",
       " ';': 25,\n",
       " '?': 26,\n",
       " 'A': 27,\n",
       " 'B': 28,\n",
       " 'C': 29,\n",
       " 'D': 30,\n",
       " 'E': 31,\n",
       " 'F': 32,\n",
       " 'G': 33,\n",
       " 'H': 34,\n",
       " 'I': 35,\n",
       " 'J': 36,\n",
       " 'K': 37,\n",
       " 'L': 38,\n",
       " 'M': 39,\n",
       " 'N': 40,\n",
       " 'O': 41,\n",
       " 'P': 42,\n",
       " 'Q': 43,\n",
       " 'R': 44,\n",
       " 'S': 45,\n",
       " 'T': 46,\n",
       " 'U': 47,\n",
       " 'V': 48,\n",
       " 'W': 49,\n",
       " 'X': 50,\n",
       " 'Y': 51,\n",
       " 'Z': 52,\n",
       " 'a': 53,\n",
       " 'b': 54,\n",
       " 'c': 55,\n",
       " 'd': 56,\n",
       " 'e': 57,\n",
       " 'f': 58,\n",
       " 'g': 59,\n",
       " 'h': 60,\n",
       " 'i': 61,\n",
       " 'j': 62,\n",
       " 'k': 63,\n",
       " 'l': 64,\n",
       " 'm': 65,\n",
       " 'n': 66,\n",
       " 'o': 67,\n",
       " 'p': 68,\n",
       " 'q': 69,\n",
       " 'r': 70,\n",
       " 's': 71,\n",
       " 't': 72,\n",
       " 'u': 73,\n",
       " 'v': 74,\n",
       " 'w': 75,\n",
       " 'x': 76,\n",
       " 'y': 77,\n",
       " 'z': 78}"
      ]
     },
     "execution_count": 17,
     "metadata": {},
     "output_type": "execute_result"
    }
   ],
   "source": [
    "label_dict"
   ]
  },
  {
   "cell_type": "code",
   "execution_count": null,
   "metadata": {
    "collapsed": true
   },
   "outputs": [],
   "source": []
  }
 ],
 "metadata": {
  "kernelspec": {
   "display_name": "Python 2",
   "language": "python",
   "name": "python2"
  },
  "language_info": {
   "codemirror_mode": {
    "name": "ipython",
    "version": 2
   },
   "file_extension": ".py",
   "mimetype": "text/x-python",
   "name": "python",
   "nbconvert_exporter": "python",
   "pygments_lexer": "ipython2",
   "version": "2.7.12"
  }
 },
 "nbformat": 4,
 "nbformat_minor": 0
}
