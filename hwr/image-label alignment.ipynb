{
 "cells": [
  {
   "cell_type": "markdown",
   "metadata": {},
   "source": [
    "# Image-label alignment process\n",
    "This notebook is about to produce a file aligning the images and labels of IAM text lines dataset."
   ]
  },
  {
   "cell_type": "code",
   "execution_count": 2,
   "metadata": {
    "collapsed": true
   },
   "outputs": [],
   "source": [
    "# some constant\n",
    "LABEL_DIR = \"../data/labels/\"\n",
    "IMAGE_DIR = \"../data/images/\""
   ]
  },
  {
   "cell_type": "code",
   "execution_count": 8,
   "metadata": {
    "collapsed": true
   },
   "outputs": [],
   "source": [
    "# import\n",
    "import os\n",
    "import re"
   ]
  },
  {
   "cell_type": "code",
   "execution_count": 6,
   "metadata": {
    "collapsed": false
   },
   "outputs": [],
   "source": [
    "# count examples\n",
    "num_examples = sum([len(files) for r, d, files in os.walk(IMAGE_DIR)])\n",
    "assert(num_examples == 13353)"
   ]
  },
  {
   "cell_type": "code",
   "execution_count": 33,
   "metadata": {
    "collapsed": false
   },
   "outputs": [],
   "source": [
    "# parse the xml file\n",
    "images = []\n",
    "labels = []\n",
    "pattern = re.compile(r'.*<line.*id=\"(\\w+-\\w+-\\w+)\".*text=\"(.*?)\".*')\n",
    "for filename in os.listdir(LABEL_DIR):\n",
    "    with open(os.path.join(LABEL_DIR, filename), 'r') as f:\n",
    "        for line in f.readlines():\n",
    "            m = pattern.match(line)\n",
    "            if m:\n",
    "                fs = m.group(1).split('-')\n",
    "                images.append(\"{}/{}/{}.png\".format(fs[0], '-'.join([fs[0],fs[1]]), m.group(1)))\n",
    "                labels.append(m.group(2))\n",
    "assert(len(images) == len(labels) == num_examples)"
   ]
  },
  {
   "cell_type": "code",
   "execution_count": 34,
   "metadata": {
    "collapsed": false
   },
   "outputs": [],
   "source": [
    "# clean the labels\n",
    "#     &apos; -> '\n",
    "#     &quot; -> \"\n",
    "#     &amp;quot; -> \"\n",
    "#     &amp;amp; -> &\n",
    "#     &amp; -> &\n",
    "for i in range(len(labels)):\n",
    "    labels[i] = labels[i].replace(\"&apos;\", \"'\")\n",
    "    labels[i] = labels[i].replace(\"&quot;\", '\"')\n",
    "    labels[i] = labels[i].replace(\"&amp;quot;\",'\"')\n",
    "    labels[i] = labels[i].replace(\"&amp;amp;\",'&')\n",
    "    labels[i] = labels[i].replace(\"&amp;\",'&')"
   ]
  },
  {
   "cell_type": "code",
   "execution_count": 35,
   "metadata": {
    "collapsed": false
   },
   "outputs": [],
   "source": [
    "# write the alignmnet file\n",
    "with open(\"alignment.txt\", 'w') as f:\n",
    "    for line in zip(images, labels):\n",
    "        f.write('||'.join(line) + '\\n')"
   ]
  },
  {
   "cell_type": "code",
   "execution_count": null,
   "metadata": {
    "collapsed": true
   },
   "outputs": [],
   "source": []
  }
 ],
 "metadata": {
  "kernelspec": {
   "display_name": "Python 2",
   "language": "python",
   "name": "python2"
  },
  "language_info": {
   "codemirror_mode": {
    "name": "ipython",
    "version": 2
   },
   "file_extension": ".py",
   "mimetype": "text/x-python",
   "name": "python",
   "nbconvert_exporter": "python",
   "pygments_lexer": "ipython2",
   "version": "2.7.12"
  }
 },
 "nbformat": 4,
 "nbformat_minor": 0
}
